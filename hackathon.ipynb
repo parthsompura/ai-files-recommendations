{
 "cells": [
  {
   "cell_type": "code",
   "execution_count": 1,
   "id": "2a5a7016",
   "metadata": {},
   "outputs": [],
   "source": [
    "import pandas as pd"
   ]
  },
  {
   "cell_type": "code",
   "execution_count": 5,
   "id": "52bde3d2",
   "metadata": {},
   "outputs": [
    {
     "name": "stdout",
     "output_type": "stream",
     "text": [
      "/home/asehgal/Downloads\n"
     ]
    }
   ],
   "source": [
    "cd Downloads"
   ]
  },
  {
   "cell_type": "markdown",
   "id": "124fcb63",
   "metadata": {},
   "source": [
    "### Data Loading"
   ]
  },
  {
   "cell_type": "code",
   "execution_count": null,
   "id": "dc280f32",
   "metadata": {},
   "outputs": [
    {
     "name": "stdout",
     "output_type": "stream",
     "text": [
      "Collecting scikit-surprise\n",
      "  Downloading scikit-surprise-1.1.3.tar.gz (771 kB)\n",
      "\u001b[2K     \u001b[38;2;114;156;31m━━━━━━━━━━━━━━━━━━━━━━━━━━━━━━━━━━━━━━━\u001b[0m \u001b[32m772.0/772.0 kB\u001b[0m \u001b[31m2.8 MB/s\u001b[0m eta \u001b[36m0:00:00\u001b[0mm eta \u001b[36m0:00:01\u001b[0m[36m0:00:01\u001b[0m\n",
      "\u001b[?25h  Preparing metadata (setup.py) ... \u001b[?25ldone\n",
      "\u001b[?25hRequirement already satisfied: joblib>=1.0.0 in ./anaconda3/lib/python3.11/site-packages (from scikit-surprise) (1.2.0)\n",
      "Requirement already satisfied: numpy>=1.17.3 in ./anaconda3/lib/python3.11/site-packages (from scikit-surprise) (1.24.3)\n",
      "Requirement already satisfied: scipy>=1.3.2 in ./anaconda3/lib/python3.11/site-packages (from scikit-surprise) (1.11.1)\n",
      "Building wheels for collected packages: scikit-surprise\n",
      "  Building wheel for scikit-surprise (setup.py) ... \u001b[?25l|"
     ]
    }
   ],
   "source": [
    "!pip install scikit-surprise"
   ]
  },
  {
   "cell_type": "code",
   "execution_count": null,
   "id": "d3fc5629",
   "metadata": {},
   "outputs": [],
   "source": [
    "df = pd.read_csv(\"data-set.csv\")\n",
    "df = df.dropna()"
   ]
  },
  {
   "cell_type": "code",
   "execution_count": null,
   "id": "f4e176ae",
   "metadata": {},
   "outputs": [],
   "source": [
    "df = df.reset_index(drop=True)"
   ]
  },
  {
   "cell_type": "code",
   "execution_count": null,
   "id": "5daa5be9",
   "metadata": {},
   "outputs": [],
   "source": [
    "def duplicate_rows_randomly(df, n_duplicates):\n",
    "    duplicated_rows = []\n",
    "\n",
    "    for user_id in df['UserId'].unique():\n",
    "        user_data = df[df['UserId'] == user_id]\n",
    "\n",
    "        for _ in range(n_duplicates):\n",
    "            random_row = user_data.sample(n=1).iloc[0]\n",
    "            duplicated_rows.append(random_row)\n",
    "\n",
    "    duplicated_df = pd.DataFrame(duplicated_rows)\n",
    "    new_df = pd.concat([df, duplicated_df], ignore_index=True)\n",
    "    return new_df\n",
    "\n",
    "# Example usage:\n",
    "# Assuming your DataFrame has columns 'UserID', 'FilePath', and 'Action'\n",
    "# You can adjust n_duplicates based on how many times you want to duplicate each row\n",
    "new_df = duplicate_rows_randomly(df, n_duplicates=100)"
   ]
  },
  {
   "cell_type": "code",
   "execution_count": null,
   "id": "632cc28a",
   "metadata": {},
   "outputs": [],
   "source": [
    "df = new_df"
   ]
  },
  {
   "cell_type": "markdown",
   "id": "88b982bc",
   "metadata": {},
   "source": [
    "### Creating Features"
   ]
  },
  {
   "cell_type": "code",
   "execution_count": null,
   "id": "ab3bec9c",
   "metadata": {},
   "outputs": [],
   "source": [
    "from sklearn.preprocessing import LabelEncoder\n",
    "label_encoder = LabelEncoder()\n",
    "df['Actions'] = label_encoder.fit_transform(df['Actions'])"
   ]
  },
  {
   "cell_type": "code",
   "execution_count": null,
   "id": "623fc793",
   "metadata": {},
   "outputs": [],
   "source": [
    "df['Rating'] = df.groupby(['UserId', 'FilePath'])['FilePath'].transform('count')"
   ]
  },
  {
   "cell_type": "code",
   "execution_count": null,
   "id": "51a5c452",
   "metadata": {},
   "outputs": [],
   "source": [
    "df[\"Rating\"].unique()"
   ]
  },
  {
   "cell_type": "code",
   "execution_count": null,
   "id": "d03e2465",
   "metadata": {},
   "outputs": [],
   "source": [
    "# Content-Based Filtering using TF-IDF\n",
    "tfidf_vectorizer = TfidfVectorizer(stop_words='english')\n",
    "tfidf_matrix = tfidf_vectorizer.fit_transform(df['FilePath'])\n",
    "cosine_sim = linear_kernel(tfidf_matrix, tfidf_matrix)"
   ]
  },
  {
   "cell_type": "code",
   "execution_count": null,
   "id": "6776fcc6",
   "metadata": {},
   "outputs": [],
   "source": [
    "# Collaborative Filtering using Surprise library\n",
    "reader = Reader(rating_scale=(1, 10))\n",
    "data_surprise = Dataset.load_from_df(df[['UserId', 'FilePath', 'Rating']], reader)\n",
    "trainset, testset = train_test_split(data_surprise, test_size=0.2, random_state=42)\n"
   ]
  },
  {
   "cell_type": "code",
   "execution_count": null,
   "id": "440a1aa0",
   "metadata": {},
   "outputs": [],
   "source": [
    "algo = SVD()\n",
    "algo.fit(trainset)"
   ]
  },
  {
   "cell_type": "code",
   "execution_count": null,
   "id": "f2d434ed",
   "metadata": {},
   "outputs": [],
   "source": [
    "collab_based_recommendations = []\n",
    "for item in df['FilePath'].unique():\n",
    "    predicted_rating = algo.predict(user_id, item).est\n",
    "    if predicted_rating > 7.0:\n",
    "        collab_based_recommendations.append(item)"
   ]
  },
  {
   "cell_type": "code",
   "execution_count": null,
   "id": "3b2c9806",
   "metadata": {},
   "outputs": [],
   "source": [
    "def get_recommendations(user_id):\n",
    "    # Content-Based Filtering\n",
    "    file_indices = pd.Series(df.index, index=df['FilePath'])\n",
    "    idx = file_indices[df[df['UserId'] == user_id]['FilePath']]\n",
    "    # idx = file_indices[df[(df['UserId'] == user_id) & (df['Actions'] == user_action)]['FilePath']]\n",
    "\n",
    "    sim_scores = list(enumerate(cosine_sim[idx]))\n",
    "    sim_scores = sorted(sim_scores, key=lambda x: x[1][0], reverse=True)\n",
    "    sim_scores = sim_scores[1:6]  # Top 5 similar files\n",
    "\n",
    "    file_indices = [i[0] for i in sim_scores]\n",
    "\n",
    "    content_based_recommendations = df['FilePath'].iloc[file_indices].tolist()\n",
    "\n",
    "    # Collaborative Filtering\n",
    "    collab_based_recommendations = []\n",
    "    for item in df['FilePath'].unique():\n",
    "        predicted_rating = algo.predict(user_id, item).est\n",
    "        if predicted_rating > 9.0:\n",
    "            collab_based_recommendations.append(item)\n",
    "\n",
    "    return content_based_recommendations, collab_based_recommendations"
   ]
  },
  {
   "cell_type": "code",
   "execution_count": null,
   "id": "c9562074",
   "metadata": {},
   "outputs": [],
   "source": [
    "user_id = 1\n",
    "content_based_recs, collab_based_recs = get_recommendations(user_id)\n",
    "print(f\"Content-Based Recommendations for User {user_id}: {content_based_recs}\")\n",
    "print(f\"Collaborative Filtering Recommendations for User {user_id}: {collab_based_recs}\")"
   ]
  },
  {
   "cell_type": "code",
   "execution_count": null,
   "id": "1c9ea183",
   "metadata": {},
   "outputs": [],
   "source": [
    "user_id = 1\n",
    "content_based_recs, collab_based_recs = get_recommendations(user_id)\n",
    "print(f\"Content-Based Recommendations for User {user_id}: {content_based_recs}\")\n",
    "print(f\"Collaborative Filtering Recommendations for User {user_id}: {collab_based_recs}\")"
   ]
  },
  {
   "cell_type": "code",
   "execution_count": null,
   "id": "f9bcb0c0",
   "metadata": {},
   "outputs": [],
   "source": []
  },
  {
   "cell_type": "code",
   "execution_count": null,
   "id": "aa98f549",
   "metadata": {},
   "outputs": [],
   "source": []
  }
 ],
 "metadata": {
  "kernelspec": {
   "display_name": "Python 3 (ipykernel)",
   "language": "python",
   "name": "python3"
  },
  "language_info": {
   "codemirror_mode": {
    "name": "ipython",
    "version": 3
   },
   "file_extension": ".py",
   "mimetype": "text/x-python",
   "name": "python",
   "nbconvert_exporter": "python",
   "pygments_lexer": "ipython3",
   "version": "3.11.5"
  }
 },
 "nbformat": 4,
 "nbformat_minor": 5
}
